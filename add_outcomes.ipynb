{
 "cells": [
  {
   "cell_type": "code",
   "execution_count": 22,
   "metadata": {},
   "outputs": [],
   "source": [
    "import pandas as pd"
   ]
  },
  {
   "cell_type": "code",
   "execution_count": 23,
   "metadata": {},
   "outputs": [],
   "source": [
    "patients_data = pd.read_csv('patients_data.csv')\n",
    "rv_outcomes = pd.read_excel('RVoutcomes.xlsx')"
   ]
  },
  {
   "cell_type": "code",
   "execution_count": 24,
   "metadata": {},
   "outputs": [
    {
     "name": "stdout",
     "output_type": "stream",
     "text": [
      "Columns in patients_data: Index(['patKey', 'patid', 'rhcId', 'RHCDate', 'Sex', 'Height', 'Weight',\n",
      "       'Birthday', 'CO_td', 'CO_fick', 'PCW', 'PCWa', 'PCWv', 'PAs', 'PAd',\n",
      "       'RVs', 'RVmin', 'RVd', 'RAa', 'RAv', 'RAm', 'LVs', 'LVd', 'LVmin',\n",
      "       'SAs', 'SAd', 'HR_rhc', 'HR_vitals', 'HR_vitals_std', 'NIBPs_vitals',\n",
      "       'NIBPs_vitals_std', 'NIBPd_vitals', 'NIBPd_vitals_std', 'As', 'Ad',\n",
      "       'tteId', 'TTEDate', 'LVIDd', 'LVIDs', 'HR_tte', 'LVEF_tte', 'EA',\n",
      "       'IVSd', 'LVPWd', 'LAd', 'VLA', 'AVr', 'AVpg', 'MVr', 'MVmg', 'TVr',\n",
      "       'TVmg', 'PVr', 'PVpg', 'AVr_str', 'MVr_str', 'TVr_str', 'PVr_str'],\n",
      "      dtype='object')\n",
      "Columns in rv_outcomes: Index(['patid', 'patkey', 'RV Dysfunction'], dtype='object')\n"
     ]
    }
   ],
   "source": [
    "patients_data.rename(columns={'patId': 'patid'}, inplace=True)\n",
    "\n",
    "print(\"Columns in patients_data:\", patients_data.columns)\n",
    "print(\"Columns in rv_outcomes:\", rv_outcomes.columns)"
   ]
  },
  {
   "cell_type": "code",
   "execution_count": 25,
   "metadata": {},
   "outputs": [],
   "source": [
    "merged_data = pd.merge(patients_data, rv_outcomes, on='patid', how='left')"
   ]
  },
  {
   "cell_type": "code",
   "execution_count": 26,
   "metadata": {},
   "outputs": [
    {
     "name": "stdout",
     "output_type": "stream",
     "text": [
      "Updated columns in patients_data: Index(['patKey', 'patid', 'rhcId', 'RHCDate', 'Sex', 'Height', 'Weight',\n",
      "       'Birthday', 'CO_td', 'CO_fick', 'PCW', 'PCWa', 'PCWv', 'PAs', 'PAd',\n",
      "       'RVs', 'RVmin', 'RVd', 'RAa', 'RAv', 'RAm', 'LVs', 'LVd', 'LVmin',\n",
      "       'SAs', 'SAd', 'HR_rhc', 'HR_vitals', 'HR_vitals_std', 'NIBPs_vitals',\n",
      "       'NIBPs_vitals_std', 'NIBPd_vitals', 'NIBPd_vitals_std', 'As', 'Ad',\n",
      "       'tteId', 'TTEDate', 'LVIDd', 'LVIDs', 'HR_tte', 'LVEF_tte', 'EA',\n",
      "       'IVSd', 'LVPWd', 'LAd', 'VLA', 'AVr', 'AVpg', 'MVr', 'MVmg', 'TVr',\n",
      "       'TVmg', 'PVr', 'PVpg', 'AVr_str', 'MVr_str', 'TVr_str', 'PVr_str'],\n",
      "      dtype='object')\n"
     ]
    }
   ],
   "source": [
    "print(\"Updated columns in patients_data:\", patients_data.columns)"
   ]
  },
  {
   "cell_type": "code",
   "execution_count": 27,
   "metadata": {},
   "outputs": [
    {
     "name": "stdout",
     "output_type": "stream",
     "text": [
      "Merged data saved to patients_data_with_RVoutcomes.csv\n"
     ]
    }
   ],
   "source": [
    "merged_csv_file = 'patients_data_with_RVoutcomes.csv'\n",
    "merged_data.to_csv(merged_csv_file, index=False)\n",
    "print(f\"Merged data saved to {merged_csv_file}\")"
   ]
  },
  {
   "cell_type": "code",
   "execution_count": 28,
   "metadata": {},
   "outputs": [],
   "source": [
    "merged_data = pd.merge(patients_data, rv_outcomes, on='patid', how='left')"
   ]
  },
  {
   "cell_type": "code",
   "execution_count": 29,
   "metadata": {},
   "outputs": [
    {
     "name": "stdout",
     "output_type": "stream",
     "text": [
      "Merged data saved to 'merged_patients_data.csv'\n"
     ]
    }
   ],
   "source": [
    "merged_data.to_csv('merged_patients_data.csv', index=False)\n",
    "print(\"Merged data saved to 'merged_patients_data.csv'\")\n"
   ]
  },
  {
   "cell_type": "code",
   "execution_count": 31,
   "metadata": {},
   "outputs": [
    {
     "name": "stdout",
     "output_type": "stream",
     "text": [
      "                                 patKey  patid  rhcId      RHCDate  Sex  \\\n",
      "0  00417F6B-D6DD-E611-80D4-0025B5000026      2      1  26-Jan-2017    1   \n",
      "1  008DC91B-B3D4-E411-8D38-F0921C021BF8      4      6  15-Jan-2018    2   \n",
      "2  016A5AD2-08F4-E211-9A1C-00215A9B0094      5      2  08-Jan-2014    1   \n",
      "3  016B8D3C-00E5-E211-9FAA-00215A9B0094      6      3  21-Feb-2012    1   \n",
      "4  019FDE1D-06F4-E211-9A1C-00215A9B0094      9      2  10-May-2016    2   \n",
      "\n",
      "   Height  Weight     Birthday  CO_td  CO_fick  ...  TVr  TVmg  PVr  PVpg  \\\n",
      "0   180.0    68.6  05-Jan-1969   1.93     2.79  ...  1.5   NaN  1.0   4.0   \n",
      "1   168.0    72.6  08-Jul-1953   4.13     3.46  ...  1.5   NaN  1.0   2.0   \n",
      "2   178.0   103.6  04-Jan-1943   5.20     4.74  ...  3.0   NaN  1.0   2.0   \n",
      "3   168.0    83.6  09-Feb-1956    NaN     4.69  ...  2.0   NaN  2.0   NaN   \n",
      "4   162.0    45.0  24-Dec-1970   2.85     2.24  ...  3.0   NaN  1.5   4.0   \n",
      "\n",
      "                               AVr_str             MVr_str  \\\n",
      "0                              Minimal    Mild to moderate   \n",
      "1                                 Mild            Moderate   \n",
      "2  No evidence of aortic regurgitation              Severe   \n",
      "3  No evidence of aortic regurgitation  Moderate to severe   \n",
      "4                              Minimal  Moderate to severe   \n",
      "\n",
      "                                TVr_str  \\\n",
      "0  Minimal, may be within normal limits   \n",
      "1  Minimal, may be within normal limits   \n",
      "2                              Moderate   \n",
      "3                                  Mild   \n",
      "4                              Moderate   \n",
      "\n",
      "                                 PVr_str  \\\n",
      "0  No evidence of pulmonic insufficiency   \n",
      "1  No evidence of pulmonic insufficiency   \n",
      "2  No evidence of pulmonic insufficiency   \n",
      "3                                   Mild   \n",
      "4   Minimal, may be within normal limits   \n",
      "\n",
      "                                 patkey  RV Dysfunction  \n",
      "0  00417F6B-D6DD-E611-80D4-0025B5000026        Moderate  \n",
      "1  008DC91B-B3D4-E411-8D38-F0921C021BF8            Mild  \n",
      "2  016A5AD2-08F4-E211-9A1C-00215A9B0094            Mild  \n",
      "3  016B8D3C-00E5-E211-9FAA-00215A9B0094            Mild  \n",
      "4  019FDE1D-06F4-E211-9A1C-00215A9B0094            Mild  \n",
      "\n",
      "[5 rows x 60 columns]\n"
     ]
    }
   ],
   "source": [
    "print(merged_data.head())"
   ]
  }
 ],
 "metadata": {
  "kernelspec": {
   "display_name": "torch_env",
   "language": "python",
   "name": "python3"
  },
  "language_info": {
   "codemirror_mode": {
    "name": "ipython",
    "version": 3
   },
   "file_extension": ".py",
   "mimetype": "text/x-python",
   "name": "python",
   "nbconvert_exporter": "python",
   "pygments_lexer": "ipython3",
   "version": "3.11.10"
  }
 },
 "nbformat": 4,
 "nbformat_minor": 2
}
